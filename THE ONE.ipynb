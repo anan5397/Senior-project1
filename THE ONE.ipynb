{
 "cells": [
  {
   "cell_type": "code",
   "execution_count": 3,
   "metadata": {
    "collapsed": true
   },
   "outputs": [],
   "source": [
    "%matplotlib inline\n",
    "import numpy as np\n",
    "import matplotlib.pyplot as plt"
   ]
  },
  {
   "cell_type": "code",
   "execution_count": 4,
   "metadata": {
    "collapsed": true
   },
   "outputs": [],
   "source": [
    "uy = [0,1,2,3,4,5,6,7]\n",
    "k1 = 20\n",
    "k2 = 10\n",
    "u3 = [0,0.5,2.5,5.5,0.0,1.0,3.0,6.0]\n",
    "k3 = [[0,k1,k1,k1,0,0,0,0],[k1,0,k1,k1,0,0,0,0],[k1,k1,0,k1,0,0,0,0],[k1,k1,k1,0,0,0,0,0],\n",
    "      [0,0,0,0,0,k2,k2,k2],[0,0,0,0,k2,0,k2,k2],[0,0,0,0,k2,k2,0,k2],[0,0,0,0,k2,k2,k2,0]]"
   ]
  },
  {
   "cell_type": "code",
   "execution_count": 5,
   "metadata": {
    "collapsed": true
   },
   "outputs": [],
   "source": [
    "def sol1(u,k):\n",
    "    final = []\n",
    "    for i in uy:\n",
    "        add = []\n",
    "        value = 0\n",
    "        for j in uy:\n",
    "            q = abs(j-i)\n",
    "            if j-i == 1 or i-j == 1:\n",
    "                value = 0.5*(k[i][j])*abs(u[j]-u[i])**2.0\n",
    "                add.append(value)\n",
    "            elif j-i == 0 :\n",
    "                add.append(0)\n",
    "            elif j - i > 1.0:\n",
    "                if k[i][j] == 0:\n",
    "                    add.append(0)\n",
    "                elif k[i][j] != 0:\n",
    "                    t = 0\n",
    "                    x = j-1\n",
    "                    y = j\n",
    "                    while y > 0:\n",
    "                        if k[i][y] == 0:\n",
    "                            y = y - 1\n",
    "                        pe = ((k[i][y])*(u[y] - u[x])**2.0)/2\n",
    "                        t = t + pe\n",
    "                        y = y - 1\n",
    "                        x = x - 1\n",
    "                    add.append(t)\n",
    "                    t = 0\n",
    "            elif j - i < -1:\n",
    "                if k[i][j] == 0:\n",
    "                     add.append(0)\n",
    "                elif k[i][j] != 0:\n",
    "                    t = 0\n",
    "                    y = j\n",
    "                    x = i \n",
    "                    jin = j + 1\n",
    "                    while y < i:\n",
    "                        pe = ((k[i][j])*(u[j] - u[jin])**2.0)/2\n",
    "                        t = t + pe\n",
    "                        j += 1\n",
    "                        jin += 1\n",
    "                        y += 1\n",
    "                    add.append(t)\n",
    "                    t = 0\n",
    "        final.append(add)\n",
    "    return final "
   ]
  },
  {
   "cell_type": "code",
   "execution_count": 6,
   "metadata": {},
   "outputs": [
    {
     "data": {
      "text/plain": [
       "[[0, 2.5, 42.5, 132.5, 0, 0, 0, 0],\n",
       " [2.5, 0, 40.0, 130.0, 0, 0, 0, 0],\n",
       " [42.5, 40.0, 0, 90.0, 0, 0, 0, 0],\n",
       " [132.5, 130.0, 90.0, 0, 0.0, 0, 0, 0],\n",
       " [0, 0, 0, 0.0, 0, 5.0, 25.0, 70.0],\n",
       " [0, 0, 0, 0, 5.0, 0, 20.0, 65.0],\n",
       " [0, 0, 0, 0, 25.0, 20.0, 0, 45.0],\n",
       " [0, 0, 0, 0, 70.0, 65.0, 45.0, 0]]"
      ]
     },
     "execution_count": 6,
     "metadata": {},
     "output_type": "execute_result"
    }
   ],
   "source": [
    "sol1(u3,k3)"
   ]
  },
  {
   "cell_type": "code",
   "execution_count": 7,
   "metadata": {},
   "outputs": [
    {
     "data": {
      "text/plain": [
       "array([[ 200. ,  180. ,  180. ,  360. ,   82.5,   72.5,   72.5,  162.5]])"
      ]
     },
     "execution_count": 7,
     "metadata": {},
     "output_type": "execute_result"
    }
   ],
   "source": [
    "a = np.array([0, 10.0, 50.0, 140.0, 0, 0, 0, 0])\n",
    "b = np.array([10.0, 0, 40.0, 130.0, 0, 0, 0, 0])\n",
    "c = np.array([50.0, 40.0, 0, 90.0, 0, 0, 0, 0]),\n",
    "d = np.array([140.0, 130.0, 90.0, 0, 0.0, 0, 0, 0])\n",
    "e = np.array([0, 0, 0, 0.0, 0, 5.0, 16.25, 61.25])\n",
    "f = np.array([0, 0, 0, 0, 5.0, 0, 11.25, 56.25])\n",
    "g = np.array([0, 0, 0, 0, 16.25, 11.25, 0, 45.0])\n",
    "h = np.array([0, 0, 0, 0, 61.25, 56.25, 45.0, 0])\n",
    "a+b+c+d+e+f+g+h"
   ]
  },
  {
   "cell_type": "code",
   "execution_count": 10,
   "metadata": {},
   "outputs": [],
   "source": [
    "ans = np.array([ 200. ,  180. ,  180. ,  360.])\n",
    "pos = [0,0.5,2.5,5.5]\n",
    "ans1 = np.array([82.5,   72.5,   72.5,  162.5])\n",
    "pos1 = [0.0,1.0,3.0,6.0]"
   ]
  },
  {
   "cell_type": "code",
   "execution_count": 11,
   "metadata": {},
   "outputs": [
    {
     "data": {
      "text/plain": [
       "[<matplotlib.lines.Line2D at 0x8bc8b00>]"
      ]
     },
     "execution_count": 11,
     "metadata": {},
     "output_type": "execute_result"
    },
    {
     "data": {
      "image/png": "[encoded data removed]",
      "text/plain": [
       "<matplotlib.figure.Figure at 0x8557860>"
      ]
     },
     "metadata": {},
     "output_type": "display_data"
    }
   ],
   "source": [
    "plt.scatter(pos1,ans1)\n",
    "plt.plot(pos1,ans1)               \n",
    "plt.scatter(pos,ans)\n",
    "plt.plot(pos,ans)"
   ]
  },
  {
   "cell_type": "code",
   "execution_count": null,
   "metadata": {
    "collapsed": true
   },
   "outputs": [],
   "source": []
  }
 ],
 "metadata": {
  "kernelspec": {
   "display_name": "Python 2",
   "language": "python",
   "name": "python2"
  },
  "language_info": {
   "codemirror_mode": {
    "name": "ipython",
    "version": 2
   },
   "file_extension": ".py",
   "mimetype": "text/x-python",
   "name": "python",
   "nbconvert_exporter": "python",
   "pygments_lexer": "ipython2",
   "version": "2.7.13"
  }
 },
 "nbformat": 4,
 "nbformat_minor": 2
}
